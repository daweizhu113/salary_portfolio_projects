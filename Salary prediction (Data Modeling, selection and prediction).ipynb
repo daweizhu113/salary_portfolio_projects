{
 "cells": [
  {
   "cell_type": "markdown",
   "metadata": {},
   "source": [
    "Import necessary packages"
   ]
  },
  {
   "cell_type": "code",
   "execution_count": 1,
   "metadata": {},
   "outputs": [],
   "source": [
    "import pandas as pd\n",
    "import numpy as np\n",
    "from sklearn.utils import shuffle\n",
    "from sklearn.linear_model import LinearRegression\n",
    "from sklearn.ensemble import RandomForestRegressor, GradientBoostingRegressor\n",
    "from sklearn.model_selection import cross_val_score\n",
    "from sklearn.metrics import mean_squared_error\n",
    "from sklearn.pipeline import make_pipeline\n",
    "from sklearn.decomposition import PCA\n",
    "from sklearn.preprocessing import StandardScaler\n",
    "import matplotlib.pyplot as plt"
   ]
  },
  {
   "cell_type": "markdown",
   "metadata": {},
   "source": [
    "creating processing functions in advance for future use and review"
   ]
  },
  {
   "cell_type": "code",
   "execution_count": 2,
   "metadata": {},
   "outputs": [],
   "source": [
    "def load_file(files):\n",
    "    '''Loads csv to pd dataframe'''\n",
    "    return pd.read_csv(files)\n",
    "\n",
    "def merge_df(df1,df2, key=None, left_index=False, right_index=False):\n",
    "    '''Use inner join function to return only records that are qualified in both dataframes'''\n",
    "    return pd.merge(left=df1,right=df2, on=key, left_index=left_index, right_index=right_index)\n",
    "\n",
    "def cleaned_data(raw_df):\n",
    "    '''remove rows that contain unqualified salary (salary <= 0 or duplicates jobIds)'''\n",
    "    cleaned_df = raw_df.drop_duplicates(subset='jobId')\n",
    "    cleaned_df = cleaned_df[cleaned_df.salary > 0]\n",
    "    return cleaned_df\n",
    "\n",
    "def encode_features_df(df,cat_vars=None, num_vars=None):\n",
    "    '''convert all categorical variables to dummies and combines with continous variables'''\n",
    "    cat_df = pd.get_dummies(df[cat_vars])\n",
    "    num_df = df[num_vars].apply(pd.to_numeric)\n",
    "    return pd.concat([cat_df,num_df], axis=1)\n",
    "\n",
    "def get_target_df(df,target):\n",
    "    '''return target dataframe'''\n",
    "    return df[target]\n",
    "\n",
    "def train_model(model, feature_df, target_df, num_process,mean_mse, cv_std=2):\n",
    "    neg_mse = cross_val_score(model, feature_df, target_df, n_jobs=num_process, scoring='neg_mean_squared_error')\n",
    "    mean_mse[model] = -1.0 * np.mean(neg_mse)\n",
    "    cv_std[model] = np.std(neg_mse)\n",
    "    \n",
    "def print_summary(model, mean_mse,cv_std):\n",
    "    print('\\nModel:\\n',model)\n",
    "    print('Average MSE:\\n',mean_mse[model])\n",
    "    print('Standard deviation of cross valiadation is:\\n', cv_std[model])\n",
    "    \n",
    "def save_result(model,mean_mse, prediction, feature_importances):\n",
    "    '''save important metrics including model, model summary, feature importances and prediction'''\n",
    "    with open('model.txt', 'w') as file:\n",
    "        file.write(str(model))\n",
    "    feature_importances.to_csv('feature_importances.csv')\n",
    "    np.savetxt('predictions.csv', predictions, delimiter=',')"
   ]
  },
  {
   "cell_type": "code",
   "execution_count": 3,
   "metadata": {},
   "outputs": [
    {
     "name": "stdout",
     "output_type": "stream",
     "text": [
      "Loading data\n",
      "Encoding data\n"
     ]
    }
   ],
   "source": [
    "# Data inputs and define variables\n",
    "train_feature_file = 'data/train_features.csv'\n",
    "train_target_file = 'data/train_salaries.csv'\n",
    "test_feature_file = 'data/test_features.csv'\n",
    "\n",
    "categorical_vars = ['companyId', 'jobType', 'degree', 'major', 'industry']\n",
    "numeric_vars = ['yearsExperience', 'milesFromMetropolis']\n",
    "target_var = 'salary'\n",
    "\n",
    "# load data by predefined function\n",
    "print('Loading data')\n",
    "feature_df = load_file(train_feature_file)\n",
    "target_df = load_file(train_target_file)\n",
    "test_df = load_file(test_feature_file)\n",
    "\n",
    "# merge training data\n",
    "raw_train_df = merge_df(feature_df, target_df, key='jobId')\n",
    "\n",
    "# clean, shuffle (better result for cross validation accuracy), and reindex training data \n",
    "cleaned_train_df = shuffle(cleaned_data(raw_train_df)).reset_index()\n",
    "\n",
    "# encode categorical data and get final features dfs\n",
    "print('Encoding data')\n",
    "feature_df = encode_features_df(cleaned_train_df, cat_vars=categorical_vars, num_vars=numeric_vars)\n",
    "test_df = encode_features_df(test_df, cat_vars=categorical_vars, num_vars=numeric_vars)\n",
    "\n",
    "# get target df\n",
    "target_df = get_target_df(cleaned_train_df, target_var)"
   ]
  },
  {
   "cell_type": "markdown",
   "metadata": {},
   "source": [
    "After setting up, we can initiate creating model list and dictionary"
   ]
  },
  {
   "cell_type": "markdown",
   "metadata": {},
   "source": [
    "    For choosing evaluation metrics:\n",
    "\n",
    "    Root mean square error is same as MSE (personal choice) becasue both metric provides information about how much our prediction is off. Although R-square value might give same result, it doesn't reflecting any information about how good or bad on our prediction."
   ]
  },
  {
   "cell_type": "code",
   "execution_count": 4,
   "metadata": {},
   "outputs": [],
   "source": [
    "models = []\n",
    "mean_mse = {}\n",
    "cv_std = {}\n",
    "residual = {}\n",
    "\n",
    "# define number of parallal processing\n",
    "num_process = 2\n",
    "\n",
    "# shared model parameters \n",
    "verbose_lvl = 5"
   ]
  },
  {
   "cell_type": "markdown",
   "metadata": {},
   "source": [
    "Creating models with already tuned hyperparameters"
   ]
  },
  {
   "cell_type": "markdown",
   "metadata": {},
   "source": [
    "    Linear regression might a good model by eyeballing from Data preprocessing\n",
    "    RandomForest and gmb model are turned by hand"
   ]
  },
  {
   "cell_type": "code",
   "execution_count": 5,
   "metadata": {},
   "outputs": [],
   "source": [
    "Linear = LinearRegression()\n",
    "Linear_std_pca = make_pipeline(StandardScaler(), PCA(), LinearRegression())\n",
    "randomforest = RandomForestRegressor(n_estimators=150, n_jobs=num_process, max_depth=25, min_samples_split=60, \\\n",
    "                                    max_features=30, verbose=verbose_lvl)\n",
    "gbm = GradientBoostingRegressor(n_estimators=150,max_depth=5, loss='ls', verbose=verbose_lvl)\n",
    "\n",
    "models.extend([Linear, Linear_std_pca, randomforest, gbm])"
   ]
  },
  {
   "cell_type": "markdown",
   "metadata": {},
   "source": [
    "Parallal Model cross-valiadtion with MSE evaluation metrics, printing summarys and select the best model\n"
   ]
  },
  {
   "cell_type": "code",
   "execution_count": 6,
   "metadata": {},
   "outputs": [
    {
     "name": "stdout",
     "output_type": "stream",
     "text": [
      "Beginning cross validation\n"
     ]
    },
    {
     "name": "stderr",
     "output_type": "stream",
     "text": [
      "E:\\Anaconda\\lib\\site-packages\\sklearn\\model_selection\\_split.py:1978: FutureWarning: The default value of cv will change from 3 to 5 in version 0.22. Specify it explicitly to silence this warning.\n",
      "  warnings.warn(CV_WARNING, FutureWarning)\n"
     ]
    },
    {
     "name": "stdout",
     "output_type": "stream",
     "text": [
      "\n",
      "Model:\n",
      " LinearRegression(copy_X=True, fit_intercept=True, n_jobs=None, normalize=False)\n",
      "Average MSE:\n",
      " 384.48353390918373\n",
      "Standard deviation of cross valiadation is:\n",
      " 0.45368392319678985\n",
      "\n",
      "Model:\n",
      " Pipeline(memory=None,\n",
      "         steps=[('standardscaler',\n",
      "                 StandardScaler(copy=True, with_mean=True, with_std=True)),\n",
      "                ('pca',\n",
      "                 PCA(copy=True, iterated_power='auto', n_components=None,\n",
      "                     random_state=None, svd_solver='auto', tol=0.0,\n",
      "                     whiten=False)),\n",
      "                ('linearregression',\n",
      "                 LinearRegression(copy_X=True, fit_intercept=True, n_jobs=None,\n",
      "                                  normalize=False))],\n",
      "         verbose=False)\n",
      "Average MSE:\n",
      " 384.436614668314\n",
      "Standard deviation of cross valiadation is:\n",
      " 0.38702265144490083\n",
      "\n",
      "Model:\n",
      " RandomForestRegressor(bootstrap=True, criterion='mse', max_depth=25,\n",
      "                      max_features=30, max_leaf_nodes=None,\n",
      "                      min_impurity_decrease=0.0, min_impurity_split=None,\n",
      "                      min_samples_leaf=1, min_samples_split=60,\n",
      "                      min_weight_fraction_leaf=0.0, n_estimators=150, n_jobs=2,\n",
      "                      oob_score=False, random_state=None, verbose=5,\n",
      "                      warm_start=False)\n",
      "Average MSE:\n",
      " 366.35795145667726\n",
      "Standard deviation of cross valiadation is:\n",
      " 0.36667589180475046\n",
      "\n",
      "Model:\n",
      " GradientBoostingRegressor(alpha=0.9, criterion='friedman_mse', init=None,\n",
      "                          learning_rate=0.1, loss='ls', max_depth=5,\n",
      "                          max_features=None, max_leaf_nodes=None,\n",
      "                          min_impurity_decrease=0.0, min_impurity_split=None,\n",
      "                          min_samples_leaf=1, min_samples_split=2,\n",
      "                          min_weight_fraction_leaf=0.0, n_estimators=150,\n",
      "                          n_iter_no_change=None, presort='auto',\n",
      "                          random_state=None, subsample=1.0, tol=0.0001,\n",
      "                          validation_fraction=0.1, verbose=5, warm_start=False)\n",
      "Average MSE:\n",
      " 356.913804415431\n",
      "Standard deviation of cross valiadation is:\n",
      " 0.06252316045111932\n"
     ]
    }
   ],
   "source": [
    "print('Beginning cross validation')\n",
    "for model in models:\n",
    "    train_model(model, feature_df, target_df, num_process, mean_mse, cv_std)\n",
    "    print_summary(model, mean_mse, cv_std)"
   ]
  },
  {
   "cell_type": "code",
   "execution_count": 7,
   "metadata": {},
   "outputs": [
    {
     "name": "stdout",
     "output_type": "stream",
     "text": [
      "\n",
      "Predictions calculated using model with lowest MSE:\n",
      "GradientBoostingRegressor(alpha=0.9, criterion='friedman_mse', init=None,\n",
      "                          learning_rate=0.1, loss='ls', max_depth=5,\n",
      "                          max_features=None, max_leaf_nodes=None,\n",
      "                          min_impurity_decrease=0.0, min_impurity_split=None,\n",
      "                          min_samples_leaf=1, min_samples_split=2,\n",
      "                          min_weight_fraction_leaf=0.0, n_estimators=150,\n",
      "                          n_iter_no_change=None, presort='auto',\n",
      "                          random_state=None, subsample=1.0, tol=0.0001,\n",
      "                          validation_fraction=0.1, verbose=5, warm_start=False)\n"
     ]
    }
   ],
   "source": [
    "# choose model with lowest mse\n",
    "model=min(mean_mse, key=mean_mse.get)\n",
    "print('\\nPredictions calculated using model with lowest MSE:')\n",
    "print(model)"
   ]
  },
  {
   "cell_type": "markdown",
   "metadata": {},
   "source": [
    "Train model on entire dataset"
   ]
  },
  {
   "cell_type": "code",
   "execution_count": 8,
   "metadata": {},
   "outputs": [
    {
     "name": "stdout",
     "output_type": "stream",
     "text": [
      "      Iter       Train Loss   Remaining Time \n",
      "         1        1351.2830           36.15m\n",
      "         2        1229.8976           32.11m\n",
      "         3        1129.7084           30.00m\n",
      "         4        1045.3752           28.71m\n",
      "         5         974.4283           27.82m\n",
      "         6         914.9446           27.22m\n",
      "         7         862.6779           26.83m\n",
      "         8         814.8460           26.82m\n",
      "         9         772.9795           26.57m\n",
      "        10         737.2014           26.36m\n",
      "        11         703.2007           26.09m\n",
      "        12         674.8285           25.82m\n",
      "        13         646.7975           25.51m\n",
      "        14         622.7268           25.26m\n",
      "        15         600.2103           24.87m\n",
      "        16         580.4148           24.65m\n",
      "        17         562.4582           24.40m\n",
      "        18         546.1933           24.29m\n",
      "        19         532.1733           24.16m\n",
      "        20         519.7989           23.94m\n",
      "        21         507.6813           23.75m\n",
      "        22         495.8845           23.45m\n",
      "        23         486.4871           23.20m\n",
      "        24         476.9924           23.02m\n",
      "        25         468.2647           22.77m\n",
      "        26         461.2279           22.55m\n",
      "        27         454.1592           22.35m\n",
      "        28         446.2624           22.10m\n",
      "        29         440.6765           21.92m\n",
      "        30         434.7553           21.79m\n",
      "        31         429.2346           21.59m\n",
      "        32         424.2917           21.45m\n",
      "        33         420.3582           21.23m\n",
      "        34         415.5826           20.97m\n",
      "        35         411.5928           20.76m\n",
      "        36         408.3976           20.63m\n",
      "        37         405.5008           20.45m\n",
      "        38         402.8080           20.30m\n",
      "        39         399.8214           20.07m\n",
      "        40         397.1956           19.89m\n",
      "        41         394.9489           19.71m\n",
      "        42         392.4671           19.51m\n",
      "        43         390.5625           19.33m\n",
      "        44         388.7537           19.11m\n",
      "        45         386.7124           18.89m\n",
      "        46         385.2113           18.74m\n",
      "        47         383.4763           18.55m\n",
      "        48         382.2040           18.36m\n",
      "        49         380.7438           18.15m\n",
      "        50         379.5808           17.97m\n",
      "        51         378.4055           17.75m\n",
      "        52         377.0657           17.53m\n",
      "        53         376.1363           17.35m\n",
      "        54         375.0350           17.16m\n",
      "        55         374.2654           17.01m\n",
      "        56         373.0524           16.80m\n",
      "        57         372.1788           16.59m\n",
      "        58         371.5162           16.40m\n",
      "        59         370.8655           16.23m\n",
      "        60         370.1295           16.01m\n",
      "        61         369.5625           15.83m\n",
      "        62         369.0510           15.64m\n",
      "        63         368.4511           15.43m\n",
      "        64         367.8407           15.26m\n",
      "        65         367.2397           15.06m\n",
      "        66         366.8049           14.87m\n",
      "        67         366.4709           14.68m\n",
      "        68         365.8530           14.48m\n",
      "        69         365.1556           14.28m\n",
      "        70         364.8456           14.13m\n",
      "        71         364.4409           13.94m\n",
      "        72         364.1200           13.74m\n",
      "        73         363.8223           13.57m\n",
      "        74         363.5483           13.39m\n",
      "        75         363.1621           13.19m\n",
      "        76         362.9085           13.01m\n",
      "        77         362.4975           12.83m\n",
      "        78         362.2728           12.64m\n",
      "        79         361.9852           12.45m\n",
      "        80         361.7159           12.26m\n",
      "        81         361.2094           12.07m\n",
      "        82         361.0009           11.92m\n",
      "        83         360.8369           11.73m\n",
      "        84         360.6868           11.56m\n",
      "        85         360.4469           11.37m\n",
      "        86         360.3233           11.18m\n",
      "        87         360.1320           11.01m\n",
      "        88         359.7673           10.82m\n",
      "        89         359.6228           10.66m\n",
      "        90         359.4911           10.50m\n",
      "        91         359.3641           10.32m\n",
      "        92         359.1885           10.13m\n",
      "        93         358.9043            9.94m\n",
      "        94         358.7813            9.78m\n",
      "        95         358.6926            9.61m\n",
      "        96         358.5604            9.42m\n",
      "        97         358.3333            9.24m\n",
      "        98         358.2481            9.07m\n",
      "        99         358.0749            8.89m\n",
      "       100         357.9892            8.71m\n",
      "       101         357.8827            8.54m\n",
      "       102         357.6588            8.36m\n",
      "       103         357.4892            8.17m\n",
      "       104         357.4221            7.99m\n",
      "       105         357.3222           30.24m\n",
      "       106         357.2757           29.44m\n",
      "       107         357.1766           28.60m\n",
      "       108         357.0845           27.75m\n",
      "       109         357.0219           26.93m\n",
      "       110         356.8646           26.10m\n",
      "       111         356.8097           25.29m\n",
      "       112         356.6792           24.48m\n",
      "       113         356.6005           23.69m\n",
      "       114         356.5345           22.91m\n",
      "       115         356.4918           22.14m\n",
      "       116         356.3863           21.36m\n",
      "       117         356.3298           20.61m\n",
      "       118         356.2260           19.87m\n",
      "       119         356.1327           19.14m\n",
      "       120         356.0783           18.42m\n",
      "       121         356.0379           17.69m\n",
      "       122         355.9801           16.98m\n",
      "       123         355.9083           16.27m\n",
      "       124         355.8254           15.57m\n",
      "       125         355.7833           14.89m\n",
      "       126         355.7386           14.21m\n",
      "       127         355.7060           13.54m\n",
      "       128         355.6415           12.88m\n",
      "       129         355.6150           12.23m\n",
      "       130         355.5596           11.58m\n",
      "       131         355.5253           10.94m\n",
      "       132         355.5027           10.30m\n",
      "       133         355.4711            9.68m\n",
      "       134         355.4164            9.06m\n",
      "       135         355.3686            8.45m\n",
      "       136         355.2910            7.84m\n",
      "       137         355.2581            7.24m\n",
      "       138         355.2351            6.65m\n",
      "       139         355.2050            6.07m\n",
      "       140         355.1670            5.49m\n",
      "       141         355.1341            4.91m\n",
      "       142         355.0897            4.34m\n",
      "       143         355.0588            3.78m\n",
      "       144         355.0464            3.23m\n",
      "       145         355.0161            2.67m\n",
      "       146         354.9721            2.13m\n",
      "       147         354.9559            1.59m\n",
      "       148         354.9346            1.05m\n",
      "       149         354.8952           31.49s\n",
      "       150         354.8716            0.00s\n"
     ]
    }
   ],
   "source": [
    "model.fit(feature_df,target_df)\n",
    "\n",
    "# create predictions based on the test data\n",
    "predictions = model.predict(test_df)\n",
    "\n",
    "# store feature importances\n",
    "if hasattr(model, 'feature_importances_'):\n",
    "    importances = model.feature_importances_\n",
    "else:\n",
    "    # since linear model don't have feature_importances_\n",
    "    importances = [0]*len(feature_df.columns)\n",
    "    \n",
    "feature_importances = pd.DataFrame({'feature':feature_df.columns, 'importance': importances})\n",
    "feature_importances.sort_values(by='importance', ascending=False, inplace=True)\n",
    "\n",
    "# set index to 'feature'\n",
    "feature_importances.set_index('feature', inplace=True, drop=True)"
   ]
  },
  {
   "cell_type": "markdown",
   "metadata": {},
   "source": [
    "Create Plot"
   ]
  },
  {
   "cell_type": "code",
   "execution_count": 9,
   "metadata": {},
   "outputs": [
    {
     "data": {
      "image/png": "[encoded data removed]",
      "text/plain": [
       "<Figure size 1440x720 with 1 Axes>"
      ]
     },
     "metadata": {
      "needs_background": "light"
     },
     "output_type": "display_data"
    }
   ],
   "source": [
    "feature_importances[0:25].plot.bar(figsize=(20,10))\n",
    "plt.xticks(rotation=35)\n",
    "plt.show()"
   ]
  },
  {
   "cell_type": "markdown",
   "metadata": {},
   "source": [
    "Save Result"
   ]
  },
  {
   "cell_type": "code",
   "execution_count": 11,
   "metadata": {},
   "outputs": [],
   "source": [
    "save_result(model, mean_mse[model], predictions, feature_importances)"
   ]
  }
 ],
 "metadata": {
  "kernelspec": {
   "display_name": "Python 3",
   "language": "python",
   "name": "python3"
  },
  "language_info": {
   "codemirror_mode": {
    "name": "ipython",
    "version": 3
   },
   "file_extension": ".py",
   "mimetype": "text/x-python",
   "name": "python",
   "nbconvert_exporter": "python",
   "pygments_lexer": "ipython3",
   "version": "3.7.0"
  }
 },
 "nbformat": 4,
 "nbformat_minor": 2
}
